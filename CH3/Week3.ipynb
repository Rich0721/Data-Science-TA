{
 "cells": [
  {
   "cell_type": "markdown",
   "metadata": {},
   "source": [
    "### Week3 文字分析\n",
    "##### 3-1 文字前處理\n",
    "##### 3-2 文字雲\n",
    "##### 3-3 詞袋模型\n",
    "##### 3-4 TF-IDF\n",
    "##### 3-5 詞嵌入模型\n",
    "##### 3-6 文字相似度計算\n",
    "##### 3-7 文字分群\n",
    "##### 3-8 社群網路文字分析作業引導"
   ]
  },
  {
   "cell_type": "markdown",
   "metadata": {},
   "source": [
    "### 3-1 文字前處理\n",
    "<p>將Series 連接成一個字串</p>\n",
    "<p><a href=\"https://pandas.pydata.org/pandas-docs/stable/reference/api/pandas.Series.str.cat.html\">pandas series str cat</a></p>"
   ]
  },
  {
   "cell_type": "code",
   "execution_count": 7,
   "metadata": {},
   "outputs": [
    {
     "name": "stdout",
     "output_type": "stream",
     "text": [
      "以Turnitin自我檢測論文內容之原創性 不可不知的學位論文著作權 論文簡報：說一個精采的故事 [\n"
     ]
    }
   ],
   "source": [
    "import pandas as pd\n",
    "lib = pd.read_excel('library20181022.xlsx')\n",
    "titles = lib[\"主題\"].str.cat(sep=' ')\n",
    "print(titles[:50])"
   ]
  },
  {
   "cell_type": "markdown",
   "metadata": {},
   "source": [
    "<p><a href=\"https://stackoverflow.com/questions/3801431/python-any-way-to-perform-this-hybrid-split-on-multi-lingual-e-g-chinese\">拆分中文與英文字串</a></p>"
   ]
  },
  {
   "cell_type": "code",
   "execution_count": 10,
   "metadata": {},
   "outputs": [
    {
     "name": "stdout",
     "output_type": "stream",
     "text": [
      "['以', 'Turnitin', '自', '我', '檢', '測', '論', '文', '內', '容', '之', '原', '創', '性', '不', '可', '不', '知', '的', '學', '位', '論', '文', '著', '作', '權', '論', '文', '簡', '報', '說', '一', '個', '精', '采', '的', '故', '事', '閱', '讀', '素', '養', '研', '習', '坊', '歷', '史', '知', '識', '與']\n"
     ]
    }
   ],
   "source": [
    "import re\n",
    "def group_words(s):\n",
    "    return re.findall(\"[\\u4e00-\\u9fff]|[a-zA-Z0-9]+\", s)\n",
    "\n",
    "words = group_words(titles)\n",
    "print(words[:50])"
   ]
  },
  {
   "cell_type": "code",
   "execution_count": 13,
   "metadata": {},
   "outputs": [
    {
     "name": "stdout",
     "output_type": "stream",
     "text": [
      "以 7\n",
      "Turnitin 12\n",
      "自 5\n",
      "我 10\n",
      "檢 5\n",
      "測 3\n",
      "論 69\n",
      "文 115\n",
      "內 4\n",
      "容 3\n",
      "之 12\n",
      "原 8\n",
      "創 22\n",
      "性 4\n",
      "不 17\n",
      "可 10\n",
      "知 12\n",
      "的 56\n",
      "學 207\n"
     ]
    }
   ],
   "source": [
    "def get_word_count(words):\n",
    "    outputs = dict()\n",
    "    for word in words:\n",
    "        if word in outputs:\n",
    "            outputs[word] += 1\n",
    "        else:\n",
    "            outputs[word] = 1\n",
    "    \n",
    "    return outputs\n",
    "\n",
    "def print_dict(dicts, n):\n",
    "    count = 0\n",
    "    for key, value in dicts.items():\n",
    "        count += 1\n",
    "        if count < n:\n",
    "            print(key, value)\n",
    "count = get_word_count(words)\n",
    "print_dict(count, 20)"
   ]
  },
  {
   "cell_type": "markdown",
   "metadata": {},
   "source": [
    "#### n-gram"
   ]
  },
  {
   "cell_type": "code",
   "execution_count": 16,
   "metadata": {},
   "outputs": [],
   "source": [
    "# 以function實作n-gram\n",
    "def get_ngrams(words, n):\n",
    "    output = []\n",
    "    for i in range(len(words)-n+1):\n",
    "        output.append(words[i:i+n])\n",
    "    return output"
   ]
  },
  {
   "cell_type": "code",
   "execution_count": 18,
   "metadata": {},
   "outputs": [
    {
     "name": "stdout",
     "output_type": "stream",
     "text": [
      "2-grams:[['以', 'Turnitin'], ['Turnitin', '自'], ['自', '我'], ['我', '檢'], ['檢', '測'], ['測', '論'], ['論', '文'], ['文', '內'], ['內', '容'], ['容', '之']]\n",
      "3-grams:[['以', 'Turnitin', '自'], ['Turnitin', '自', '我'], ['自', '我', '檢'], ['我', '檢', '測'], ['檢', '測', '論'], ['測', '論', '文'], ['論', '文', '內'], ['文', '內', '容'], ['內', '容', '之'], ['容', '之', '原']]\n",
      "4-grams:[['以', 'Turnitin', '自', '我'], ['Turnitin', '自', '我', '檢'], ['自', '我', '檢', '測'], ['我', '檢', '測', '論'], ['檢', '測', '論', '文'], ['測', '論', '文', '內'], ['論', '文', '內', '容'], ['文', '內', '容', '之'], ['內', '容', '之', '原'], ['容', '之', '原', '創']]\n"
     ]
    }
   ],
   "source": [
    "# 2-grams\n",
    "n_grams = get_ngrams(words, 2)\n",
    "print(\"2-grams:{}\".format(n_grams[:10]))\n",
    "# 3-grams\n",
    "n_grams = get_ngrams(words, 3)\n",
    "print(\"3-grams:{}\".format(n_grams[:10]))\n",
    "# 4-grams\n",
    "n_grams = get_ngrams(words, 4)\n",
    "print(\"4-grams:{}\".format(n_grams[:10]))\n"
   ]
  },
  {
   "cell_type": "markdown",
   "metadata": {},
   "source": [
    "### 計算ngram出現次數"
   ]
  },
  {
   "cell_type": "markdown",
   "metadata": {},
   "source": [
    "from collections import OrderedDict\n",
    "\n",
    "def get_ngrams_count(words, n):\n",
    "    output = dict()\n",
    "    for i in range(len(words)-n+1):\n",
    "        string = \"\".join(words[i:i+n])\n",
    "        if string in output:\n",
    "            output[string] += 1\n",
    "        else:\n",
    "            output[string] = 1\n",
    "    return output"
   ]
  },
  {
   "cell_type": "code",
   "execution_count": 54,
   "metadata": {},
   "outputs": [
    {
     "name": "stdout",
     "output_type": "stream",
     "text": [
      "資源 68\n",
      "論文 66\n",
      "資料 66\n",
      "料庫 52\n",
      "介紹 49\n",
      "研究 48\n",
      "課程 43\n",
      "說明 39\n",
      "額滿 36\n"
     ]
    }
   ],
   "source": [
    "n_grams = get_ngrams_count(words, 2)\n",
    "\n",
    "order = OrderedDict(sorted(n_grams.items(), key=lambda t: t[1], reverse=True))\n",
    "print_dict(order, 10)"
   ]
  },
  {
   "cell_type": "markdown",
   "metadata": {},
   "source": [
    "### 3-2文字雲"
   ]
  },
  {
   "cell_type": "code",
   "execution_count": 49,
   "metadata": {},
   "outputs": [],
   "source": [
    "from wordcloud import WordCloud\n",
    "from matplotlib.font_manager import FontProperties\n",
    "from matplotlib import pyplot as plt\n",
    "import seaborn as sns\n",
    "%matplotlib inline\n",
    "\n",
    "myfont = FontProperties(fname=r\"NotoSerifCJKtc-Black.otf\")\n",
    "sns.set(font=myfont.get_family())\n",
    "sns.set_style(\"whitegrid\",{\"font.sans-serif\":['Microsoft JhengHei']})"
   ]
  },
  {
   "cell_type": "code",
   "execution_count": 57,
   "metadata": {},
   "outputs": [
    {
     "data": {
      "image/png": "[encoded data removed]",
      "text/plain": [
       "<Figure size 432x288 with 1 Axes>"
      ]
     },
     "metadata": {},
     "output_type": "display_data"
    }
   ],
   "source": [
    "plt.figure()\n",
    "wordcloud = WordCloud(font_path='NotoSerifCJKtc-Black.otf',max_words=50).generate_from_frequencies(n_grams)\n",
    "plt.imshow(wordcloud, interpolation=\"bilinear\")\n",
    "plt.axis(\"off\")\n",
    "plt.show()"
   ]
  },
  {
   "cell_type": "markdown",
   "metadata": {},
   "source": [
    "#### 結巴練習"
   ]
  },
  {
   "cell_type": "code",
   "execution_count": 58,
   "metadata": {},
   "outputs": [
    {
     "name": "stdout",
     "output_type": "stream",
     "text": [
      "全模式: 我, 從, 高雄, 來到, 台, 中, ，, 就讀, 逢甲大學\n",
      "精確模式: 我, 從, 高, 雄, 來到, 台中, ，, 就讀, 逢甲, 逢甲大學, 大學\n",
      "搜尋引擎模式: 小明, 碩士, 畢業, 於, 逢甲, 大學, 逢甲大學, 資工, 所, ，, 後, 在, 日本, 京都, 大學, 日本京都大學, 深造\n"
     ]
    }
   ],
   "source": [
    "# encoding=utf-8\n",
    "import jieba\n",
    "\n",
    "seg_list = jieba.cut(\"我從高雄來到台中，就讀逢甲大學\", cut_all=False) #全模式\n",
    "print(\"全模式: \" + \", \".join(seg_list))\n",
    "\n",
    "seg_list = jieba.cut(\"我從高雄來到台中，就讀逢甲大學\", cut_all=True) #精確模式\n",
    "print(\"精確模式: \" + \", \".join(seg_list))\n",
    "\n",
    "seg_list = jieba.cut_for_search(\"小明碩士畢業於逢甲大學資工所，後在日本京都大學深造\") #搜尋引擎模式\n",
    "print(\"搜尋引擎模式: \"+ \", \".join(seg_list))"
   ]
  },
  {
   "cell_type": "code",
   "execution_count": 59,
   "metadata": {},
   "outputs": [
    {
     "name": "stdout",
     "output_type": "stream",
     "text": [
      "['以', 'Turnitin', '自我', '檢測', '論文', '內容', '之', '原創性', ' ', '不可']\n"
     ]
    }
   ],
   "source": [
    "import pandas as pd\n",
    "lib = pd.read_excel('library20181022.xlsx')\n",
    "titles = lib[\"主題\"].str.cat(sep=' ')\n",
    "segment = list(jieba.cut(titles))\n",
    "print(segment[:10])"
   ]
  },
  {
   "cell_type": "code",
   "execution_count": 60,
   "metadata": {},
   "outputs": [
    {
     "name": "stdout",
     "output_type": "stream",
     "text": [
      "['以', 'Turnitin', '自我', '檢測', '論文', '內容', '之', '原創性', ' ', '不可']\n"
     ]
    }
   ],
   "source": [
    "jieba.load_userdict(\"dict.txt.big\")\n",
    "segment = list(jieba.cut(titles))\n",
    "print(segment[:10])"
   ]
  },
  {
   "cell_type": "markdown",
   "metadata": {},
   "source": [
    "#### 3-2 程式練習"
   ]
  },
  {
   "cell_type": "code",
   "execution_count": 66,
   "metadata": {},
   "outputs": [],
   "source": [
    "from wordcloud import WordCloud\n",
    "from matplotlib.font_manager import FontProperties\n",
    "from matplotlib import pyplot as plt\n",
    "import seaborn as sns\n",
    "import jieba\n",
    "import pandas as pd\n",
    "%matplotlib inline\n",
    "\n",
    "lib = pd.read_excel('library20181022.xlsx')\n",
    "titles = lib[\"主題\"].str.cat(sep=' ')\n",
    "jieba.load_userdict(\"dict.txt.big\")\n",
    "segment = list(jieba.cut(titles))\n",
    "seg_text = \" \".join(segment)"
   ]
  },
  {
   "cell_type": "code",
   "execution_count": 67,
   "metadata": {},
   "outputs": [
    {
     "data": {
      "image/png": "[encoded data removed]",
      "text/plain": [
       "<Figure size 432x288 with 1 Axes>"
      ]
     },
     "metadata": {
      "needs_background": "light"
     },
     "output_type": "display_data"
    }
   ],
   "source": [
    "plt.figure()\n",
    "wordcloud = WordCloud(font_path='NotoSerifCJKtc-Black.otf',max_words=50).generate(seg_text)\n",
    "plt.imshow(wordcloud, interpolation=\"bilinear\")\n",
    "plt.axis(\"off\")\n",
    "plt.show()"
   ]
  },
  {
   "cell_type": "markdown",
   "metadata": {},
   "source": [
    "#### 3-3 Bag of words"
   ]
  },
  {
   "cell_type": "code",
   "execution_count": 6,
   "metadata": {},
   "outputs": [
    {
     "data": {
      "text/plain": [
       "array([[0, 0, 1, 0, 0, 1, 0, 1, 0, 0, 0, 1, 1, 0],\n",
       "       [0, 0, 0, 0, 1, 1, 0, 1, 0, 0, 0, 1, 1, 0],\n",
       "       [1, 1, 0, 1, 0, 0, 0, 0, 0, 1, 0, 0, 0, 1],\n",
       "       [0, 0, 0, 0, 0, 0, 1, 0, 1, 0, 1, 2, 1, 0]], dtype=int64)"
      ]
     },
     "execution_count": 6,
     "metadata": {},
     "output_type": "execute_result"
    }
   ],
   "source": [
    "import numpy as np\n",
    "from sklearn.feature_extraction.text import CountVectorizer\n",
    "import pandas as pd\n",
    "\n",
    "text_data = [\"I want to eat ice cream.\", \n",
    "             \"I don’t want to eat ice.\", \n",
    "             \"You and I can do sometings.\",\n",
    "            \"They want to go to library.\"]\n",
    "\n",
    "count = CountVectorizer(min_df=0)\n",
    "bag_of_words = count.fit_transform(text_data)\n",
    "bag_of_words.toarray()"
   ]
  },
  {
   "cell_type": "code",
   "execution_count": 7,
   "metadata": {},
   "outputs": [
    {
     "data": {
      "text/html": [
       "<div>\n",
       "<style scoped>\n",
       "    .dataframe tbody tr th:only-of-type {\n",
       "        vertical-align: middle;\n",
       "    }\n",
       "\n",
       "    .dataframe tbody tr th {\n",
       "        vertical-align: top;\n",
       "    }\n",
       "\n",
       "    .dataframe thead th {\n",
       "        text-align: right;\n",
       "    }\n",
       "</style>\n",
       "<table border=\"1\" class=\"dataframe\">\n",
       "  <thead>\n",
       "    <tr style=\"text-align: right;\">\n",
       "      <th></th>\n",
       "      <th>and</th>\n",
       "      <th>can</th>\n",
       "      <th>cream</th>\n",
       "      <th>do</th>\n",
       "      <th>don</th>\n",
       "      <th>eat</th>\n",
       "      <th>go</th>\n",
       "      <th>ice</th>\n",
       "      <th>library</th>\n",
       "      <th>sometings</th>\n",
       "      <th>they</th>\n",
       "      <th>to</th>\n",
       "      <th>want</th>\n",
       "      <th>you</th>\n",
       "    </tr>\n",
       "  </thead>\n",
       "  <tbody>\n",
       "    <tr>\n",
       "      <th>0</th>\n",
       "      <td>0</td>\n",
       "      <td>0</td>\n",
       "      <td>1</td>\n",
       "      <td>0</td>\n",
       "      <td>0</td>\n",
       "      <td>1</td>\n",
       "      <td>0</td>\n",
       "      <td>1</td>\n",
       "      <td>0</td>\n",
       "      <td>0</td>\n",
       "      <td>0</td>\n",
       "      <td>1</td>\n",
       "      <td>1</td>\n",
       "      <td>0</td>\n",
       "    </tr>\n",
       "    <tr>\n",
       "      <th>1</th>\n",
       "      <td>0</td>\n",
       "      <td>0</td>\n",
       "      <td>0</td>\n",
       "      <td>0</td>\n",
       "      <td>1</td>\n",
       "      <td>1</td>\n",
       "      <td>0</td>\n",
       "      <td>1</td>\n",
       "      <td>0</td>\n",
       "      <td>0</td>\n",
       "      <td>0</td>\n",
       "      <td>1</td>\n",
       "      <td>1</td>\n",
       "      <td>0</td>\n",
       "    </tr>\n",
       "    <tr>\n",
       "      <th>2</th>\n",
       "      <td>1</td>\n",
       "      <td>1</td>\n",
       "      <td>0</td>\n",
       "      <td>1</td>\n",
       "      <td>0</td>\n",
       "      <td>0</td>\n",
       "      <td>0</td>\n",
       "      <td>0</td>\n",
       "      <td>0</td>\n",
       "      <td>1</td>\n",
       "      <td>0</td>\n",
       "      <td>0</td>\n",
       "      <td>0</td>\n",
       "      <td>1</td>\n",
       "    </tr>\n",
       "    <tr>\n",
       "      <th>3</th>\n",
       "      <td>0</td>\n",
       "      <td>0</td>\n",
       "      <td>0</td>\n",
       "      <td>0</td>\n",
       "      <td>0</td>\n",
       "      <td>0</td>\n",
       "      <td>1</td>\n",
       "      <td>0</td>\n",
       "      <td>1</td>\n",
       "      <td>0</td>\n",
       "      <td>1</td>\n",
       "      <td>2</td>\n",
       "      <td>1</td>\n",
       "      <td>0</td>\n",
       "    </tr>\n",
       "  </tbody>\n",
       "</table>\n",
       "</div>"
      ],
      "text/plain": [
       "   and  can  cream  do  don  eat  go  ice  library  sometings  they  to  want  \\\n",
       "0    0    0      1   0    0    1   0    1        0          0     0   1     1   \n",
       "1    0    0      0   0    1    1   0    1        0          0     0   1     1   \n",
       "2    1    1      0   1    0    0   0    0        0          1     0   0     0   \n",
       "3    0    0      0   0    0    0   1    0        1          0     1   2     1   \n",
       "\n",
       "   you  \n",
       "0    0  \n",
       "1    0  \n",
       "2    1  \n",
       "3    0  "
      ]
     },
     "execution_count": 7,
     "metadata": {},
     "output_type": "execute_result"
    }
   ],
   "source": [
    "feature_names = count.get_feature_names()\n",
    "pd.DataFrame(bag_of_words.toarray(), columns=feature_names)"
   ]
  },
  {
   "cell_type": "markdown",
   "metadata": {},
   "source": [
    "#### Not use bog of words library"
   ]
  },
  {
   "cell_type": "code",
   "execution_count": 60,
   "metadata": {},
   "outputs": [],
   "source": [
    "import numpy as np\n",
    "import pandas as pd\n",
    "import re\n",
    "\n",
    "def find_all_english(string):\n",
    "    return re.findall(\"[a-zA-Z]+\", string)\n",
    "\n",
    "bag_of_words = list()\n",
    "\n",
    "text_data = [\"I want to eat ice cream.\", \n",
    "             \"I don’t want to eat ice.\", \n",
    "             \"You and I can do sometings.\",\n",
    "            \"They want to go to library.\"]"
   ]
  },
  {
   "cell_type": "code",
   "execution_count": 61,
   "metadata": {},
   "outputs": [
    {
     "name": "stdout",
     "output_type": "stream",
     "text": [
      "['I', 'They', 'You', 'and', 'can', 'cream', 'do', 'don', 'eat', 'go', 'ice', 'library', 'sometings', 't', 'to', 'want']\n"
     ]
    }
   ],
   "source": [
    "for text in text_data:\n",
    "    text = find_all_english(text)\n",
    "    for t in text:\n",
    "        if (t not in bag_of_words):\n",
    "            bag_of_words.append(t)\n",
    "bag_of_words = sorted(bag_of_words)\n",
    "print(bag_of_words)"
   ]
  },
  {
   "cell_type": "code",
   "execution_count": 62,
   "metadata": {},
   "outputs": [
    {
     "name": "stdout",
     "output_type": "stream",
     "text": [
      "[1, 0, 0, 0, 0, 1, 0, 0, 1, 0, 1, 0, 0, 0, 1, 1]\n",
      "[1, 0, 0, 0, 0, 0, 0, 1, 1, 0, 1, 0, 0, 1, 1, 1]\n",
      "[1, 0, 1, 1, 1, 0, 1, 0, 0, 0, 0, 0, 1, 0, 0, 0]\n",
      "[0, 1, 0, 0, 0, 0, 0, 0, 0, 1, 0, 1, 0, 0, 2, 1]\n"
     ]
    }
   ],
   "source": [
    "counts_words_list = []\n",
    "for text in text_data:\n",
    "    temp_count = np.zeros((len(bag_of_words)), dtype=np.int).tolist()\n",
    "    text = find_all_english(text)\n",
    "    for t in text:\n",
    "        if t in bag_of_words:\n",
    "            index = bag_of_words.index(t)\n",
    "            temp_count[index] += 1\n",
    "\n",
    "    counts_words_list.append(temp_count)\n",
    "    print(temp_count)\n"
   ]
  },
  {
   "cell_type": "code",
   "execution_count": 63,
   "metadata": {},
   "outputs": [
    {
     "data": {
      "text/html": [
       "<div>\n",
       "<style scoped>\n",
       "    .dataframe tbody tr th:only-of-type {\n",
       "        vertical-align: middle;\n",
       "    }\n",
       "\n",
       "    .dataframe tbody tr th {\n",
       "        vertical-align: top;\n",
       "    }\n",
       "\n",
       "    .dataframe thead th {\n",
       "        text-align: right;\n",
       "    }\n",
       "</style>\n",
       "<table border=\"1\" class=\"dataframe\">\n",
       "  <thead>\n",
       "    <tr style=\"text-align: right;\">\n",
       "      <th></th>\n",
       "      <th>I</th>\n",
       "      <th>They</th>\n",
       "      <th>You</th>\n",
       "      <th>and</th>\n",
       "      <th>can</th>\n",
       "      <th>cream</th>\n",
       "      <th>do</th>\n",
       "      <th>don</th>\n",
       "      <th>eat</th>\n",
       "      <th>go</th>\n",
       "      <th>ice</th>\n",
       "      <th>library</th>\n",
       "      <th>sometings</th>\n",
       "      <th>t</th>\n",
       "      <th>to</th>\n",
       "      <th>want</th>\n",
       "    </tr>\n",
       "  </thead>\n",
       "  <tbody>\n",
       "    <tr>\n",
       "      <th>0</th>\n",
       "      <td>1</td>\n",
       "      <td>0</td>\n",
       "      <td>0</td>\n",
       "      <td>0</td>\n",
       "      <td>0</td>\n",
       "      <td>1</td>\n",
       "      <td>0</td>\n",
       "      <td>0</td>\n",
       "      <td>1</td>\n",
       "      <td>0</td>\n",
       "      <td>1</td>\n",
       "      <td>0</td>\n",
       "      <td>0</td>\n",
       "      <td>0</td>\n",
       "      <td>1</td>\n",
       "      <td>1</td>\n",
       "    </tr>\n",
       "    <tr>\n",
       "      <th>1</th>\n",
       "      <td>1</td>\n",
       "      <td>0</td>\n",
       "      <td>0</td>\n",
       "      <td>0</td>\n",
       "      <td>0</td>\n",
       "      <td>0</td>\n",
       "      <td>0</td>\n",
       "      <td>1</td>\n",
       "      <td>1</td>\n",
       "      <td>0</td>\n",
       "      <td>1</td>\n",
       "      <td>0</td>\n",
       "      <td>0</td>\n",
       "      <td>1</td>\n",
       "      <td>1</td>\n",
       "      <td>1</td>\n",
       "    </tr>\n",
       "    <tr>\n",
       "      <th>2</th>\n",
       "      <td>1</td>\n",
       "      <td>0</td>\n",
       "      <td>1</td>\n",
       "      <td>1</td>\n",
       "      <td>1</td>\n",
       "      <td>0</td>\n",
       "      <td>1</td>\n",
       "      <td>0</td>\n",
       "      <td>0</td>\n",
       "      <td>0</td>\n",
       "      <td>0</td>\n",
       "      <td>0</td>\n",
       "      <td>1</td>\n",
       "      <td>0</td>\n",
       "      <td>0</td>\n",
       "      <td>0</td>\n",
       "    </tr>\n",
       "    <tr>\n",
       "      <th>3</th>\n",
       "      <td>0</td>\n",
       "      <td>1</td>\n",
       "      <td>0</td>\n",
       "      <td>0</td>\n",
       "      <td>0</td>\n",
       "      <td>0</td>\n",
       "      <td>0</td>\n",
       "      <td>0</td>\n",
       "      <td>0</td>\n",
       "      <td>1</td>\n",
       "      <td>0</td>\n",
       "      <td>1</td>\n",
       "      <td>0</td>\n",
       "      <td>0</td>\n",
       "      <td>2</td>\n",
       "      <td>1</td>\n",
       "    </tr>\n",
       "  </tbody>\n",
       "</table>\n",
       "</div>"
      ],
      "text/plain": [
       "   I  They  You  and  can  cream  do  don  eat  go  ice  library  sometings  \\\n",
       "0  1     0    0    0    0      1   0    0    1   0    1        0          0   \n",
       "1  1     0    0    0    0      0   0    1    1   0    1        0          0   \n",
       "2  1     0    1    1    1      0   1    0    0   0    0        0          1   \n",
       "3  0     1    0    0    0      0   0    0    0   1    0        1          0   \n",
       "\n",
       "   t  to  want  \n",
       "0  0   1     1  \n",
       "1  1   1     1  \n",
       "2  0   0     0  \n",
       "3  0   2     1  "
      ]
     },
     "execution_count": 63,
     "metadata": {},
     "output_type": "execute_result"
    }
   ],
   "source": [
    "counts_words_list = np.array(counts_words_list)\n",
    "pd.DataFrame(counts_words_list, columns=bag_of_words)"
   ]
  },
  {
   "cell_type": "markdown",
   "metadata": {},
   "source": [
    "#### 3-4 TF-IDF"
   ]
  },
  {
   "cell_type": "code",
   "execution_count": 64,
   "metadata": {},
   "outputs": [],
   "source": [
    "from math import log\n",
    "\n",
    "def tf(term, doc, normalize=True):\n",
    "    doc = doc.lower().split()\n",
    "    if normalize:\n",
    "        result = doc.count(term.lower()) / float(len(doc))\n",
    "    else:\n",
    "        result = doc.count(term.lower()) / 1\n",
    "    return result"
   ]
  },
  {
   "cell_type": "code",
   "execution_count": 65,
   "metadata": {},
   "outputs": [],
   "source": [
    "def idf(term, docs):\n",
    "    \n",
    "    num_text_with_term = len([True for doc in docs if term.lower() in doc.lower().split()])\n",
    "    \n",
    "    try:\n",
    "        return 1.0 + log(len(docs) / num_text_with_term)\n",
    "    except ZeroDivisionError:\n",
    "        return 1.0\n",
    "\n",
    "def tf_idf(term, doc, docs):\n",
    "    return tf(term, doc) * idf(term, docs)"
   ]
  },
  {
   "cell_type": "code",
   "execution_count": 66,
   "metadata": {},
   "outputs": [
    {
     "data": {
      "text/plain": [
       "{'a': ['mr.',\n",
       "  'green',\n",
       "  'killed',\n",
       "  'colonel',\n",
       "  'mustard',\n",
       "  'in',\n",
       "  'the',\n",
       "  'study',\n",
       "  'with',\n",
       "  'the',\n",
       "  'candlestick.',\n",
       "  'mr.',\n",
       "  'green',\n",
       "  'is',\n",
       "  'not',\n",
       "  'a',\n",
       "  'very',\n",
       "  'nice',\n",
       "  'fellow.'],\n",
       " 'b': ['professor',\n",
       "  'plumb',\n",
       "  'has',\n",
       "  'a',\n",
       "  'green',\n",
       "  'plant',\n",
       "  'in',\n",
       "  'his',\n",
       "  'study'],\n",
       " 'c': ['miss',\n",
       "  'scarlett',\n",
       "  'watered',\n",
       "  'professor',\n",
       "  \"plumb's\",\n",
       "  'green',\n",
       "  'plant',\n",
       "  'while',\n",
       "  'he',\n",
       "  'was',\n",
       "  'away',\n",
       "  'from',\n",
       "  'his',\n",
       "  'office',\n",
       "  'last',\n",
       "  'week.']}"
      ]
     },
     "execution_count": 66,
     "metadata": {},
     "output_type": "execute_result"
    }
   ],
   "source": [
    "corpus = \\\n",
    "    {'a': 'Mr. Green killed Colonel Mustard in the study with the candlestick. Mr. Green is not a very nice fellow.',\n",
    "     'b': 'Professor Plumb has a green plant in his study ',\n",
    "     'c': \"Miss Scarlett watered Professor Plumb's green plant while he was away from his office last week.\"}\n",
    "\n",
    "terms = {\n",
    " 'a' : [ i.lower() for i in corpus['a'].split() ],\n",
    " 'b' : [ i.lower() for i in corpus['b'].split() ],\n",
    " 'c' : [ i.lower() for i in corpus['c'].split() ]\n",
    " }\n",
    "\n",
    "terms"
   ]
  },
  {
   "cell_type": "code",
   "execution_count": 71,
   "metadata": {},
   "outputs": [
    {
     "name": "stdout",
     "output_type": "stream",
     "text": [
      "TF(a): green 0.10526315789473684\n",
      "TF(b): green 0.1111111111111111\n",
      "TF(c): green 0.0625\n",
      "IDF: green 1.0\n",
      "\n",
      "TF-IDF(a): green 0.10526315789473684\n",
      "TF-IDF(b): green 0.1111111111111111\n",
      "TF-IDF(c): green 0.0625\n",
      "\n",
      "Overall TF-IDF scores for query 'green'\n",
      "a 0.10526315789473684\n",
      "b 0.1111111111111111\n",
      "c 0.0625\n"
     ]
    }
   ],
   "source": [
    "# Score queries by calculating cumulative tf_idf score for each term in query\n",
    "QUERY_TERMS = ['green']\n",
    "\n",
    "query_scores = {'a': 0, 'b': 0, 'c': 0}\n",
    "for term in [t.lower() for t in QUERY_TERMS]:\n",
    "    for doc in sorted(corpus):\n",
    "        print ('TF(%s): %s' % (doc, term), tf(term, corpus[doc]))\n",
    "    print ('IDF: %s' % (term, ), idf(term, corpus.values()))\n",
    "    print()\n",
    "\n",
    "    for doc in sorted(corpus):\n",
    "        score = tf_idf(term, corpus[doc], corpus.values())\n",
    "        print ('TF-IDF(%s): %s' % (doc, term), score)\n",
    "        # 將tf*idf相加 \n",
    "        query_scores[doc] += score\n",
    "    print()\n",
    "\n",
    "print (\"Overall TF-IDF scores for query '%s'\" % (' '.join(QUERY_TERMS), ))\n",
    "for (doc, score) in sorted(query_scores.items()):\n",
    "    print (doc, score)"
   ]
  },
  {
   "cell_type": "markdown",
   "metadata": {},
   "source": [
    "#### 使用NLTK 計算TF-IDF"
   ]
  },
  {
   "cell_type": "code",
   "execution_count": 72,
   "metadata": {},
   "outputs": [
    {
     "name": "stdout",
     "output_type": "stream",
     "text": [
      "TF(a): green 0.10526315789473684\n",
      "IDF(a): green 0.0\n",
      "TF-IDF(a): green 0.0\n"
     ]
    }
   ],
   "source": [
    "import nltk\n",
    "text = [text for text in terms.values()]\n",
    "tc = nltk.TextCollection(text)\n",
    "term = 'green'\n",
    "idx = 0\n",
    "print ('TF(%s): %s' % ('a', term), tc.tf(term,text[idx]))\n",
    "# If a term does not appear in the corpus, 0.0 is returned.\n",
    "print ('IDF(%s): %s' % ('a', term), tc.idf(term))\n",
    "print ('TF-IDF(%s): %s' % ('a', term), tc.tf_idf(term,text[idx]))"
   ]
  },
  {
   "cell_type": "markdown",
   "metadata": {},
   "source": [
    "### 3-5 詞嵌入模型"
   ]
  },
  {
   "cell_type": "markdown",
   "metadata": {},
   "source": [
    "#### 馬可夫模型\n",
    "<p><a href=\"https://kknews.cc/zh-tw/news/p5vk6a2.html\">文字檔</a></p>"
   ]
  },
  {
   "cell_type": "code",
   "execution_count": 4,
   "metadata": {},
   "outputs": [
    {
     "data": {
      "text/plain": [
       "['生活其實很簡單，過了今天就是明天。那些正在熬的，是會成為人生里明朗的印跡。人生平靜便是福，平靜生活，真實而洒脫。簡單的事，想深了，就複雜了。這世界上，有一種心情叫承重，舉得起放得下的叫舉重，舉得起放不下的叫負重。',\n",
       " '幸福其實很簡單，也就是兩個字：自然。這世界上，有一種心情叫承重，舉得起放得下的叫舉重，舉得起放不下的叫負重。人生，最重要的不是得失，而是擁有一顆善待自己的平常心。',\n",
       " '有些事，你真別看清，看清，心痛；有些人，你真別看懂，看懂，傷情。淡然的心態，是人生的成熟。簡單的事，想深了，就複雜了。這世界上，有一種心情叫承重，舉得起放得下的叫舉重，舉得起放不下的叫負重。用加法的方式去愛人，用減法的方式去怨恨，用乘法的方式去感恩。',\n",
       " '人生，看透不如看淡。這世界上，有一種心情叫承重，舉得起放得下的叫舉重，舉得起放不下的叫負重。與其擔心未來，不如現在好好努力。調整心態，保持好心情是很重要的。 不管什麼樣的困難，不管什麼樣的挫折，總會有雨過天晴的時候，憂傷和埋怨解決不了任何問題，唯有積極面對。',\n",
       " '不喜歡就不要選擇，喜歡了就要堅持。在一起是一種緣分，不要輕易讓喜歡你的人哭泣傷心，好好珍惜在一起的每一分鐘，美好的回憶應該留給快樂和歡笑。無論遇到什麼事情，都不要輕易說不喜歡，因為，下一站的人未必更好。舉得起放得下的叫舉重，舉得起放不下的叫負重。可惜，大多數人的愛情，都是負重的。']"
      ]
     },
     "execution_count": 4,
     "metadata": {},
     "output_type": "execute_result"
    }
   ],
   "source": [
    "with open(\"test.txt\", encoding=\"utf-8\") as f:\n",
    "    sentences = f.readlines()\n",
    "\n",
    "sentences = [s.strip() for s in sentences]\n",
    "sentences"
   ]
  },
  {
   "cell_type": "markdown",
   "metadata": {},
   "source": [
    "##### 斷句"
   ]
  },
  {
   "cell_type": "code",
   "execution_count": 5,
   "metadata": {},
   "outputs": [
    {
     "name": "stdout",
     "output_type": "stream",
     "text": [
      "['，', '。', '；', '：', '！', '?', '？', ';', ':', '!', ',', '.', '\"', \"'\", '“', '‘', '’', '(', ')', '”', '（', '）', '%', '％', '@', '~', '`', '～', '｀', '#', '、', '/', '\\\\', '<', '>', '《', '》', '／', '｛', '｝', '{', '}', '[', ']', '［', '］', '|', '｜', '\\n', '\\r', ' ', '\\t', '\\u3000', '+', '=', '*', '^', '·', '0', '1', '2', '3', '4', '5', '6', '7', '8', '9', '!', '\"', '#', '$', '%', '&', \"'\", '(', ')', '*', '+', ',', '-', '.', '/', ':', ';', '<', '=', '>', '?', '@', '[', '\\\\', ']', '^', '_', '`', '{', '|', '}', '~']\n",
      "[，。；：！\\?？;:!,\\.\"'“‘’\\(\\)”（）%％@\\~`～｀\\#、/\\\\<>《》／｛｝\\{\\}\\[\\]［］\\|｜\\\n",
      "\\\r",
      "\\ \\\t　\\+=\\*\\^·0123456789!\"\\#\\$%\\&'\\(\\)\\*\\+,\\-\\./:;<=>\\?@\\[\\\\\\]\\^_`\\{\\|\\}\\~]\n",
      "['生活其實很簡單', '過了今天就是明天', '那些正在熬的', '是會成為人生里明朗的印跡', '人生平靜便是福', '平靜生活', '真實而洒脫', '簡單的事', '想深了', '就複雜了', '這世界上', '有一種心情叫承重', '舉得起放得下的叫舉重', '舉得起放不下的叫負重', '幸福其實很簡單', '也就是兩個字', '自然', '這世界上', '有一種心情叫承重', '舉得起放得下的叫舉重', '舉得起放不下的叫負重', '人生', '最重要的不是得失', '而是擁有一顆善待自己的平常心', '有些事', '你真別看清', '看清', '心痛', '有些人', '你真別看懂', '看懂', '傷情', '淡然的心態', '是人生的成熟', '簡單的事', '想深了', '就複雜了', '這世界上', '有一種心情叫承重', '舉得起放得下的叫舉重', '舉得起放不下的叫負重', '用加法的方式去愛人', '用減法的方式去怨恨', '用乘法的方式去感恩', '人生', '看透不如看淡', '這世界上', '有一種心情叫承重', '舉得起放得下的叫舉重', '舉得起放不下的叫負重', '與其擔心未來', '不如現在好好努力', '調整心態', '保持好心情是很重要的', '不管什麼樣的困難', '不管什麼樣的挫折', '總會有雨過天晴的時候', '憂傷和埋怨解決不了任何問題', '唯有積極面對', '不喜歡就不要選擇', '喜歡了就要堅持', '在一起是一種緣分', '不要輕易讓喜歡你的人哭泣傷心', '好好珍惜在一起的每一分鐘', '美好的回憶應該留給快樂和歡笑', '無論遇到什麼事情', '都不要輕易說不喜歡', '因為', '下一站的人未必更好', '舉得起放得下的叫舉重', '舉得起放不下的叫負重', '可惜', '大多數人的愛情', '都是負重的']\n"
     ]
    }
   ],
   "source": [
    "import re\n",
    "import string\n",
    "\n",
    "delims = [\n",
    "                 \"，\", \"。\", \"；\", \"：\", \"！\",\n",
    "                 \"?\", \"？\", \";\", \":\", \"!\",\n",
    "                 \",\", \".\", \"\\\"\", \"'\", \"“\",\n",
    "                 \"‘\", \"’\", \"(\", \")\", \"”\",\n",
    "                 \"（\", \"）\", \"%\", \"％\", \"@\",\n",
    "                 \"~\", \"`\", \"～\", \"｀\", \"#\",\n",
    "                 \"、\", \"/\", \"\\\\\", \"<\", \">\",\n",
    "                 \"《\", \"》\", \"／\", \"｛\", \"｝\",\n",
    "                 \"{\", \"}\", \"[\", \"]\", \"［\",\n",
    "                 \"］\", \"|\", \"｜\", \"\\n\", \"\\r\",\n",
    "                 \" \", \"\\t\", \"　\", '+','=','*','^','·'\n",
    "             ]\\\n",
    "            + list(\"0123456789\") \\\n",
    "            + list(string.punctuation)\n",
    "print(delims)\n",
    "escaped = re.escape(''.join(delims))\n",
    "exclusions = '['+escaped+']'\n",
    "print(exclusions)\n",
    "splitsen = []\n",
    "for s in sentences:\n",
    "    cleans = re.sub(exclusions, ' ', s)\n",
    "    subs= cleans.split()\n",
    "    splitsen.extend(subs)\n",
    "print(splitsen)"
   ]
  },
  {
   "cell_type": "code",
   "execution_count": 6,
   "metadata": {},
   "outputs": [
    {
     "name": "stdout",
     "output_type": "stream",
     "text": [
      "['S生活其實很簡單E', 'S過了今天就是明天E', 'S那些正在熬的E', 'S是會成為人生里明朗的印跡E', 'S人生平靜便是福E', 'S平靜生活E', 'S真實而洒脫E', 'S簡單的事E', 'S想深了E', 'S就複雜了E', 'S這世界上E', 'S有一種心情叫承重E', 'S舉得起放得下的叫舉重E', 'S舉得起放不下的叫負重E', 'S幸福其實很簡單E', 'S也就是兩個字E', 'S自然E', 'S這世界上E', 'S有一種心情叫承重E', 'S舉得起放得下的叫舉重E', 'S舉得起放不下的叫負重E', 'S人生E', 'S最重要的不是得失E', 'S而是擁有一顆善待自己的平常心E', 'S有些事E', 'S你真別看清E', 'S看清E', 'S心痛E', 'S有些人E', 'S你真別看懂E', 'S看懂E', 'S傷情E', 'S淡然的心態E', 'S是人生的成熟E', 'S簡單的事E', 'S想深了E', 'S就複雜了E', 'S這世界上E', 'S有一種心情叫承重E', 'S舉得起放得下的叫舉重E', 'S舉得起放不下的叫負重E', 'S用加法的方式去愛人E', 'S用減法的方式去怨恨E', 'S用乘法的方式去感恩E', 'S人生E', 'S看透不如看淡E', 'S這世界上E', 'S有一種心情叫承重E', 'S舉得起放得下的叫舉重E', 'S舉得起放不下的叫負重E', 'S與其擔心未來E', 'S不如現在好好努力E', 'S調整心態E', 'S保持好心情是很重要的E', 'S不管什麼樣的困難E', 'S不管什麼樣的挫折E', 'S總會有雨過天晴的時候E', 'S憂傷和埋怨解決不了任何問題E', 'S唯有積極面對E', 'S不喜歡就不要選擇E', 'S喜歡了就要堅持E', 'S在一起是一種緣分E', 'S不要輕易讓喜歡你的人哭泣傷心E', 'S好好珍惜在一起的每一分鐘E', 'S美好的回憶應該留給快樂和歡笑E', 'S無論遇到什麼事情E', 'S都不要輕易說不喜歡E', 'S因為E', 'S下一站的人未必更好E', 'S舉得起放得下的叫舉重E', 'S舉得起放不下的叫負重E', 'S可惜E', 'S大多數人的愛情E', 'S都是負重的E']\n"
     ]
    }
   ],
   "source": [
    "for idx, s in enumerate(splitsen):\n",
    "    splitsen[idx] = 'S'+s+\"E\"\n",
    "print(splitsen)"
   ]
  },
  {
   "cell_type": "code",
   "execution_count": 7,
   "metadata": {},
   "outputs": [
    {
     "name": "stderr",
     "output_type": "stream",
     "text": [
      "Building prefix dict from the default dictionary ...\n",
      "Loading model from cache C:\\Users\\x1996\\AppData\\Local\\Temp\\jieba.cache\n",
      "Loading model cost 0.639 seconds.\n",
      "Prefix dict has been built successfully.\n"
     ]
    },
    {
     "name": "stdout",
     "output_type": "stream",
     "text": [
      "457\n",
      "['S', '生活', '其實', '很', '簡單', 'E', 'S', '過了', '今天', '就是']\n"
     ]
    }
   ],
   "source": [
    "import jieba\n",
    "jieba.load_userdict('dict.txt.big')\n",
    "words = []\n",
    "for s in splitsen:\n",
    "    ws = list(jieba.cut(s))\n",
    "    words.extend(ws)\n",
    "print(len(words))\n",
    "print(words[:10])"
   ]
  },
  {
   "cell_type": "code",
   "execution_count": 10,
   "metadata": {},
   "outputs": [
    {
     "name": "stdout",
     "output_type": "stream",
     "text": [
      "{'其實': 1, 'E': 1}\n"
     ]
    }
   ],
   "source": [
    "def build_word_dict(words):\n",
    "    \n",
    "    word_dict = {}\n",
    "    for i in range(1, len(words)):\n",
    "        if words[i-1] not in word_dict:\n",
    "            word_dict[words[i-1]] = {}\n",
    "        if words[i] not in word_dict[words[i-1]]:\n",
    "            word_dict[words[i-1]][words[i]] = 0\n",
    "        word_dict[words[i-1]][words[i]] += 1\n",
    "    \n",
    "    return word_dict\n",
    "\n",
    "word_dict = build_word_dict(words)\n",
    "print(word_dict[\"生活\"])"
   ]
  },
  {
   "cell_type": "code",
   "execution_count": 11,
   "metadata": {},
   "outputs": [],
   "source": [
    "from random import randint\n",
    "\n",
    "# 算總次數\n",
    "def wordListSum(wordList):\n",
    "    sumfreq = 0\n",
    "    for word, freq in wordList.items():\n",
    "        sumfreq += freq\n",
    "    #print(sumfreq)\n",
    "    return sumfreq\n",
    "\n",
    "# 依照機率分布，隨機產生下一個字\n",
    "def retrieveRandomWord(wordList):\n",
    "    #print(wordList)\n",
    "    # 1~n 取亂數\n",
    "    randIndex = randint(1, wordListSum(wordList))\n",
    "    for word, freq in wordList.items():\n",
    "        randIndex -= freq\n",
    "        if randIndex <= 0:\n",
    "            return word"
   ]
  },
  {
   "cell_type": "code",
   "execution_count": 15,
   "metadata": {},
   "outputs": [
    {
     "name": "stdout",
     "output_type": "stream",
     "text": [
      "生活ES想深了ES幸福其實很重要的印跡ES人生ES在一起的困難ES舉得起放不下的事ES你的叫舉重ES人生的叫舉重ES有一種緣分ES簡單的事ES舉得起放得下一站的人ES用加法的叫舉重ES用乘法的心態ES不管什麼樣的平常心ES舉得起放不下的不是得失ES這世界上ES想深了ES因為\n"
     ]
    }
   ],
   "source": [
    "# 產生長度100的Markov chain\n",
    "length = 100\n",
    "chain = \"\"\n",
    "currentWord = \"生活\"\n",
    "for i in range(0, length):\n",
    "    chain += currentWord+\"\"\n",
    "    #print(wordDict[currentWord])\n",
    "    currentWord = retrieveRandomWord(word_dict[currentWord])\n",
    "\n",
    "print(chain)"
   ]
  },
  {
   "cell_type": "code",
   "execution_count": 16,
   "metadata": {},
   "outputs": [
    {
     "data": {
      "text/plain": [
       "['生活',\n",
       " '想深了',\n",
       " '幸福其實很重要的印跡',\n",
       " '人生',\n",
       " '在一起的困難',\n",
       " '舉得起放不下的事',\n",
       " '你的叫舉重',\n",
       " '人生的叫舉重',\n",
       " '有一種緣分',\n",
       " '簡單的事',\n",
       " '舉得起放得下一站的人',\n",
       " '用加法的叫舉重',\n",
       " '用乘法的心態',\n",
       " '不管什麼樣的平常心',\n",
       " '舉得起放不下的不是得失',\n",
       " '這世界上',\n",
       " '想深了',\n",
       " '因為']"
      ]
     },
     "execution_count": 16,
     "metadata": {},
     "output_type": "execute_result"
    }
   ],
   "source": [
    "import re\n",
    "reply = re.split('S|E',chain)\n",
    "reply = [s for s in reply if s != '']\n",
    "reply"
   ]
  },
  {
   "cell_type": "markdown",
   "metadata": {},
   "source": [
    "### 3-6 詞相似度\n",
    "#### 餘弦相似度"
   ]
  },
  {
   "cell_type": "code",
   "execution_count": 4,
   "metadata": {},
   "outputs": [
    {
     "name": "stdout",
     "output_type": "stream",
     "text": [
      "  (0, 3)\t0.2205828828763741\n",
      "  (0, 16)\t0.2205828828763741\n",
      "  (0, 25)\t0.2205828828763741\n",
      "  (0, 17)\t0.2205828828763741\n",
      "  (0, 10)\t0.2205828828763741\n",
      "  (0, 1)\t0.2205828828763741\n",
      "  (0, 30)\t0.2205828828763741\n",
      "  (0, 23)\t0.1677589680512606\n",
      "  (0, 24)\t0.4411657657527482\n",
      "  (0, 9)\t0.1677589680512606\n",
      "  (0, 15)\t0.2205828828763741\n",
      "  (0, 2)\t0.2205828828763741\n",
      "  (0, 11)\t0.2205828828763741\n",
      "  (0, 5)\t0.26055960805891015\n",
      "  (0, 14)\t0.4411657657527482\n"
     ]
    }
   ],
   "source": [
    "from sklearn.feature_extraction.text import TfidfVectorizer\n",
    "from sklearn.metrics.pairwise import cosine_similarity\n",
    "\n",
    "corpus = [\n",
    "    'Mr. Green killed Colonel Mustard in the study with the candlestick. Mr. Green is not a very nice fellow.',\n",
    "    'Professor Plumb has a green plant in his study.',\n",
    "    \"Miss Scarlett watered Professor Plumb's green plant while he was away from his office last week.\"\n",
    "]\n",
    "\n",
    "tfidf_vectorizer = TfidfVectorizer()\n",
    "tfidf_matrix = tfidf_vectorizer.fit_transform(corpus)\n",
    "print(tfidf_matrix[0:1])"
   ]
  },
  {
   "cell_type": "code",
   "execution_count": 2,
   "metadata": {},
   "outputs": [
    {
     "name": "stdout",
     "output_type": "stream",
     "text": [
      "[[1.         0.18633706 0.04163403]]\n",
      "[[0.18633706 1.         0.32811415]]\n",
      "[[0.04163403 0.32811415 1.        ]]\n"
     ]
    }
   ],
   "source": [
    "print(cosine_similarity(tfidf_matrix[0:1], tfidf_matrix))\n",
    "print(cosine_similarity(tfidf_matrix[1:2], tfidf_matrix))\n",
    "print(cosine_similarity(tfidf_matrix[2:3], tfidf_matrix))"
   ]
  },
  {
   "cell_type": "markdown",
   "metadata": {},
   "source": [
    "### 3-7 分群"
   ]
  },
  {
   "cell_type": "markdown",
   "metadata": {},
   "source": [
    "#### K-means clustering\n",
    "https://medium.com/@a4793706/%E6%A9%9F%E5%99%A8%E5%AD%B8%E7%BF%92-k-means-clustering-in-python-%E9%99%84%E7%A8%8B%E5%BC%8F%E7%A2%BC%E4%BB%8B%E7%B4%B9-55c19bcf2280"
   ]
  },
  {
   "cell_type": "code",
   "execution_count": 48,
   "metadata": {},
   "outputs": [
    {
     "data": {
      "image/png": "[encoded data removed]",
      "text/plain": [
       "<Figure size 360x360 with 1 Axes>"
      ]
     },
     "metadata": {
      "needs_background": "light"
     },
     "output_type": "display_data"
    }
   ],
   "source": [
    "import pandas as pd\n",
    "import numpy as np\n",
    "import matplotlib.pyplot as plt\n",
    "import copy\n",
    "%matplotlib inline\n",
    "\n",
    "df = pd.DataFrame({\n",
    "    'x': [12, 20, 28, 18, 29, 33, 24, 45, 45, 52, 51, 52 ,55, 53, 55, 61, 64, 69, 72, 77, 81, 83, 80, 81, 85],\n",
    "    'y': [39, 36, 30, 52, 54, 46, 55, 59, 63, 70, 66, 63, 58, 23, 14, 8, 19, 7, 24, 4, 65, 12, 15, 80 ,81]\n",
    "})\n",
    "\n",
    "np.random.seed(200) # 打亂順序\n",
    "k = 3\n",
    "centroids = {\n",
    "    i+1:[np.random.randint(0, 100), np.random.randint(0, 100)] for i in range(k)\n",
    "}\n",
    "\n",
    "fig = plt.figure(figsize=(5, 5))\n",
    "plt.scatter(df['x'], df['y'], color='k')\n",
    "colmap = {\n",
    "    1: 'r', 2:'g', 3:'b'\n",
    "}\n",
    "\n",
    "for i in centroids.keys():\n",
    "    plt.scatter(*centroids[i], color=colmap[i])\n",
    "plt.xlim(0, 100)\n",
    "plt.ylim(0, 100)\n",
    "plt.show()"
   ]
  },
  {
   "cell_type": "code",
   "execution_count": 54,
   "metadata": {},
   "outputs": [
    {
     "data": {
      "image/png": "[encoded data removed]",
      "text/plain": [
       "<Figure size 360x360 with 1 Axes>"
      ]
     },
     "metadata": {
      "needs_background": "light"
     },
     "output_type": "display_data"
    }
   ],
   "source": [
    "def assignment(df, centroids):\n",
    "    for i in centroids.keys():\n",
    "        df['distance_from_{}'.format(i)] =(\n",
    "            np.sqrt((df['x'] - centroids[i][0])**2 + (df['y'] - centroids[i][1])**2)\n",
    "        )\n",
    "    \n",
    "    centroids_distance_cols = [\"distance_from_{}\".format(i) for i in centroids.keys()]\n",
    "    df['closest'] = df.loc[:, centroids_distance_cols].idxmin(axis=1)\n",
    "    df['closest'] = df['closest'].map(lambda x: int(x.lstrip(\"distance_from_\")))\n",
    "    df['color'] = df['closest'].map(lambda x:colmap[x])\n",
    "    return df\n",
    "\n",
    "df = assignment(df, centroids)\n",
    "\n",
    "fig = plt.figure(figsize=(5, 5))\n",
    "plt.scatter(df['x'], df['y'], color=df['color'], alpha=0.5, edgecolors='k')\n",
    "plt.xlim(0, 100)\n",
    "plt.ylim(0, 100)\n",
    "plt.show()"
   ]
  },
  {
   "cell_type": "code",
   "execution_count": 55,
   "metadata": {},
   "outputs": [
    {
     "name": "stdout",
     "output_type": "stream",
     "text": [
      "{1: [23.428571428571427, 44.57142857142857], 2: [68.22222222222223, 14.0], 3: [60.77777777777778, 67.22222222222223]}\n",
      "{1: [23.428571428571427, 44.57142857142857], 2: [68.22222222222223, 14.0], 3: [60.77777777777778, 67.22222222222223]}\n"
     ]
    },
    {
     "data": {
      "image/png": "[encoded data removed]",
      "text/plain": [
       "<Figure size 360x360 with 1 Axes>"
      ]
     },
     "metadata": {
      "needs_background": "light"
     },
     "output_type": "display_data"
    }
   ],
   "source": [
    "old_centeroids = copy.deepcopy(centroids)\n",
    "\n",
    "def update(centroids):\n",
    "    for i in centroids.keys():\n",
    "        centroids[i][0] = np.mean(df[df['closest'] == i]['x'])\n",
    "        centroids[i][1] = np.mean(df[df['closest'] == i]['y'])\n",
    "    return centroids\n",
    "\n",
    "centroids = update(centroids)\n",
    "print(centroids)\n",
    "print(old_centeroids)\n",
    "\n",
    "fig = plt.figure(figsize=(5, 5))\n",
    "ax = plt.axes()\n",
    "plt.scatter(df['x'], df['y'], color=df['color'], alpha=0.5, edgecolors='k')\n",
    "for i in centroids.keys():\n",
    "    plt.scatter(*centroids[i], color=colmap[i])\n",
    "plt.xlim(0, 100)\n",
    "plt.ylim(0, 100)\n",
    "\n",
    "for i in old_centeroids.keys():\n",
    "    old_x = old_centeroids[i][0]\n",
    "    old_y = old_centeroids[i][1]\n",
    "    dx = (centroids[i][0] - old_centeroids[i][0]) ** 0.75\n",
    "    dy = (centroids[i][1] - old_centeroids[i][1]) ** 0.75\n",
    "    #ax.arrow(old_x, old_y, dx, dy, head_width=2, head_length=3, fc=colmap[i], ec=colmap[i])\n",
    "plt.show()"
   ]
  },
  {
   "cell_type": "code",
   "execution_count": 56,
   "metadata": {},
   "outputs": [
    {
     "data": {
      "image/png": "[encoded data removed]",
      "text/plain": [
       "<Figure size 360x360 with 1 Axes>"
      ]
     },
     "metadata": {
      "needs_background": "light"
     },
     "output_type": "display_data"
    }
   ],
   "source": [
    "df = assignment(df, centroids)\n",
    "\n",
    "fig = plt.figure(figsize=(5, 5))\n",
    "plt.scatter(df['x'], df['y'], color=df['color'], alpha=0.5, edgecolors='k')\n",
    "plt.xlim(0, 100)\n",
    "plt.ylim(0, 100)\n",
    "plt.show()"
   ]
  },
  {
   "cell_type": "code",
   "execution_count": 57,
   "metadata": {},
   "outputs": [
    {
     "name": "stdout",
     "output_type": "stream",
     "text": [
      "{1: [23.428571428571427, 44.57142857142857], 2: [68.22222222222223, 14.0], 3: [60.77777777777778, 67.22222222222223]}\n",
      "{1: [23.428571428571427, 44.57142857142857], 2: [68.22222222222223, 14.0], 3: [60.77777777777778, 67.22222222222223]}\n"
     ]
    },
    {
     "data": {
      "image/png": "[encoded data removed]",
      "text/plain": [
       "<Figure size 360x360 with 1 Axes>"
      ]
     },
     "metadata": {
      "needs_background": "light"
     },
     "output_type": "display_data"
    }
   ],
   "source": [
    "centroids = update(centroids)\n",
    "print(centroids)\n",
    "print(old_centeroids)\n",
    "\n",
    "fig = plt.figure(figsize=(5, 5))\n",
    "ax = plt.axes()\n",
    "plt.scatter(df['x'], df['y'], color=df['color'], alpha=0.5, edgecolors='k')\n",
    "for i in centroids.keys():\n",
    "    plt.scatter(*centroids[i], color=colmap[i])\n",
    "plt.xlim(0, 100)\n",
    "plt.ylim(0, 100)\n",
    "\n",
    "for i in old_centeroids.keys():\n",
    "    old_x = old_centeroids[i][0]\n",
    "    old_y = old_centeroids[i][1]\n",
    "    dx = (centroids[i][0] - old_centeroids[i][0]) ** 0.75\n",
    "    dy = (centroids[i][1] - old_centeroids[i][1]) ** 0.75\n",
    "    #ax.arrow(old_x, old_y, dx, dy, head_width=2, head_length=3, fc=colmap[i], ec=colmap[i])\n",
    "plt.show()"
   ]
  },
  {
   "cell_type": "markdown",
   "metadata": {},
   "source": [
    "### 3-8 社群網路文字分析作業引導\n",
    "<p><a href=\"https://zh.wikipedia.org/wiki/Wikipedia:%E6%95%B0%E6%8D%AE%E5%BA%93%E4%B8%8B%E8%BD%BD\">資料集下載</a></p>\n",
    "<p><a href=\"https://clay-atlas.com/blog/2020/01/17/python-chinese-tutorial-gensim-word2vec/\">參考網站</a></p>"
   ]
  },
  {
   "cell_type": "code",
   "execution_count": 1,
   "metadata": {},
   "outputs": [
    {
     "name": "stderr",
     "output_type": "stream",
     "text": [
      "c:\\users\\fcu234\\anaconda3\\envs\\ta\\lib\\site-packages\\gensim\\utils.py:1268: UserWarning: detected Windows; aliasing chunkize to chunkize_serial\n",
      "  warnings.warn(\"detected %s; aliasing chunkize to chunkize_serial\" % entity)\n"
     ]
    },
    {
     "name": "stdout",
     "output_type": "stream",
     "text": [
      "10000 articles processed.\n",
      "10000 articles processed.\n"
     ]
    }
   ],
   "source": [
    "from gensim.corpora import WikiCorpus\n",
    "import jieba\n",
    "from opencc import OpenCC\n",
    "from gensim.models import word2vec\n",
    "\n",
    "\n",
    "wiki_corpus = WikiCorpus('zhwiki-20200601-pages-articles-multistream.xml.bz2', dictionary={})\n",
    "text_num = 0\n",
    "\n",
    "with open('wiki_text.txt', 'w', encoding='utf-8') as f:\n",
    "    for text in wiki_corpus.get_texts():\n",
    "        f.write(' '.join(text)+'\\n')\n",
    "        text_num+=1\n",
    "        if text_num % 10000 == 0:\n",
    "            print('{} articles processed.'.format(text_num))\n",
    "            break\n",
    "    print('{} articles processed.'.format(text_num))"
   ]
  },
  {
   "cell_type": "code",
   "execution_count": 2,
   "metadata": {},
   "outputs": [
    {
     "name": "stderr",
     "output_type": "stream",
     "text": [
      "Building prefix dict from the default dictionary ...\n",
      "Loading model from cache C:\\Users\\x1996\\AppData\\Local\\Temp\\jieba.cache\n",
      "Loading model cost 0.521 seconds.\n",
      "Prefix dict has been built successfully.\n"
     ]
    },
    {
     "name": "stdout",
     "output_type": "stream",
     "text": [
      "Finish read wiki_text.txt file\n",
      "Finish writing seg.txt file\n"
     ]
    }
   ],
   "source": [
    "use_transation = OpenCC(\"s2t\")\n",
    "\n",
    "with open(\"wiki_text.txt\", \"r\", encoding='utf-8') as f:\n",
    "    train_data = f.read()\n",
    "    train_data = use_transation.convert(train_data)\n",
    "    train_data = jieba.lcut(train_data)\n",
    "print(\"Finish read wiki_text.txt file\")\n",
    "\n",
    "train_data = [word for word in train_data if word != '']\n",
    "train_data = ' '.join(train_data)\n",
    "\n",
    "with open(\"seg.txt\", \"w\",  encoding='utf-8') as f:\n",
    "    f.write(train_data)\n",
    "\n",
    "print(\"Finish writing seg.txt file\")"
   ]
  },
  {
   "cell_type": "code",
   "execution_count": 3,
   "metadata": {},
   "outputs": [],
   "source": [
    "# Settings\n",
    "seed = 600\n",
    "sg = 0\n",
    "window_size = 10\n",
    "vector_size = 100\n",
    "min_count = 1\n",
    "workers = 8\n",
    "epochs = 5\n",
    "batch_words = 500\n",
    "\n",
    "train_data = word2vec.LineSentence('seg.txt')\n",
    "model = word2vec.Word2Vec(\n",
    "    train_data,\n",
    "    min_count=min_count,\n",
    "    size=vector_size,\n",
    "    workers=workers,\n",
    "    iter=epochs,\n",
    "    window=window_size,\n",
    "    sg=sg,\n",
    "    seed=seed,\n",
    "    batch_words=batch_words)\n",
    "model.save('word2vec.model')"
   ]
  },
  {
   "cell_type": "code",
   "execution_count": 4,
   "metadata": {},
   "outputs": [
    {
     "name": "stderr",
     "output_type": "stream",
     "text": [
      "c:\\users\\fcu234\\anaconda3\\envs\\ta\\lib\\site-packages\\ipykernel_launcher.py:2: DeprecationWarning: Call to deprecated `__getitem__` (Method will be removed in 4.0.0, use self.wv.__getitem__() instead).\n",
      "  \n",
      "c:\\users\\fcu234\\anaconda3\\envs\\ta\\lib\\site-packages\\ipykernel_launcher.py:4: DeprecationWarning: Call to deprecated `most_similar` (Method will be removed in 4.0.0, use self.wv.most_similar() instead).\n",
      "  after removing the cwd from sys.path.\n"
     ]
    },
    {
     "name": "stdout",
     "output_type": "stream",
     "text": [
      "(100,)\n",
      "('諾貝爾獎', 0.8800222277641296)\n",
      "('學獎', 0.8714039325714111)\n",
      "('該獎', 0.871219277381897)\n",
      "('得主', 0.8592882752418518)\n",
      "('獲得諾', 0.8482877016067505)\n",
      "('諾貝爾化', 0.8386493921279907)\n",
      "('年諾貝爾', 0.8379590511322021)\n",
      "('貝爾獎', 0.8338898420333862)\n",
      "('科學獎', 0.7996233701705933)\n",
      "('獲獎者', 0.7869561314582825)\n"
     ]
    }
   ],
   "source": [
    "model = word2vec.Word2Vec.load('word2vec.model')\n",
    "print(model['諾貝爾'].shape)\n",
    "\n",
    "for item in model.most_similar('諾貝爾'):\n",
    "    print(item)"
   ]
  },
  {
   "cell_type": "code",
   "execution_count": null,
   "metadata": {},
   "outputs": [],
   "source": []
  }
 ],
 "metadata": {
  "kernelspec": {
   "display_name": "Python 3",
   "language": "python",
   "name": "python3"
  },
  "language_info": {
   "codemirror_mode": {
    "name": "ipython",
    "version": 3
   },
   "file_extension": ".py",
   "mimetype": "text/x-python",
   "name": "python",
   "nbconvert_exporter": "python",
   "pygments_lexer": "ipython3",
   "version": "3.7.0"
  }
 },
 "nbformat": 4,
 "nbformat_minor": 4
}
