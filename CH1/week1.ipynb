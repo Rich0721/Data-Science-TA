{
 "cells": [
  {
   "cell_type": "markdown",
   "metadata": {},
   "source": [
    "## Week1\n",
    " <div><p>1.正規表達式 regular expression</p>\n",
    " <p>2. http, post-get概念</p>\n",
    " <p>3. 處理登入Logins, Cookies</p></div>"
   ]
  },
  {
   "cell_type": "markdown",
   "metadata": {},
   "source": [
    "### Regular expression 範例程式\n",
    "<p>未使用正規表達式找出台灣門號</p></br>\n",
    "<p>未使用正規表達式找出日本門號</p>"
   ]
  },
  {
   "cell_type": "code",
   "execution_count": 1,
   "metadata": {},
   "outputs": [
    {
     "name": "stdout",
     "output_type": "stream",
     "text": [
      "True\n"
     ]
    }
   ],
   "source": [
    "def Taiwan_mobile_number(string):\n",
    "    '''輸入一個字串進行比對，找出符合台灣電話號碼的格式'''\n",
    "    \n",
    "    if len(string) != 12:\n",
    "        return False\n",
    "    # 電話號碼格式 string = \"XXXX-XXX-XXX\"\n",
    "    \n",
    "    for i, s in enumerate(string):\n",
    "        \n",
    "        if i == 4 or i == 8:\n",
    "            if s != '-': # 如果第5個字和第9個字不是\"-\"\n",
    "                return False \n",
    "        else:\n",
    "            if not s.isdecimal(): # 如果 s不是數字(0~9)\n",
    "                return False\n",
    "        \n",
    "    return True\n",
    "    \n",
    "print(Taiwan_mobile_number(\"0912-333-601\"))"
   ]
  },
  {
   "cell_type": "code",
   "execution_count": 2,
   "metadata": {},
   "outputs": [
    {
     "name": "stdout",
     "output_type": "stream",
     "text": [
      "台灣門號:0911-165-123\n",
      "內文中沒有電話號碼\n"
     ]
    }
   ],
   "source": [
    "def parse_Taiwan_mobile_number_string(string):\n",
    "    '''尋找字串中的電話號碼'''\n",
    "    for i in range(len(string)):\n",
    "        msg = string[i:i+12]\n",
    "        if Taiwan_mobile_number(msg):\n",
    "            print(\"台灣門號:{}\".format(msg))\n",
    "            return False\n",
    "    return True\n",
    "\n",
    "string1 = \"你好，我是王老吳，我的電話號碼是0911-165-123\"\n",
    "string2 = \"你好，我是王老吳，我明天要去逛夜市\"\n",
    "if parse_Taiwan_mobile_number_string(string1):\n",
    "    print(\"內文中沒有電話號碼\")\n",
    "if parse_Taiwan_mobile_number_string(string2):\n",
    "    print(\"內文中沒有電話號碼\")"
   ]
  },
  {
   "cell_type": "code",
   "execution_count": 3,
   "metadata": {},
   "outputs": [
    {
     "name": "stdout",
     "output_type": "stream",
     "text": [
      "True\n"
     ]
    }
   ],
   "source": [
    "def Japan_mobile_number(string):\n",
    "    '''輸入一個字串進行比對，找出符合日本電話號碼的格式'''\n",
    "    \n",
    "    if len(string) != 13:\n",
    "        return False\n",
    "    # 電話號碼格式 string = \"XXX-XXXX-XXXX\"\n",
    "    \n",
    "    for i, s in enumerate(string):\n",
    "        \n",
    "        if i == 3 or i == 8:\n",
    "            if s != '-': # 如果第4個字和第9個字不是\"-\"\n",
    "                return False \n",
    "        else:\n",
    "            if not s.isdecimal(): # 如果 s不是數字(0~9)\n",
    "                return False\n",
    "        \n",
    "    return True\n",
    "\n",
    "print(Japan_mobile_number(\"080-1919-3555\"))"
   ]
  },
  {
   "cell_type": "code",
   "execution_count": 4,
   "metadata": {},
   "outputs": [
    {
     "name": "stdout",
     "output_type": "stream",
     "text": [
      "日本門號:080-1919-3555\n",
      "內文中沒有電話號碼\n"
     ]
    }
   ],
   "source": [
    "def parse_Japan_mobile_number_string(string):\n",
    "    '''尋找字串中的電話號碼'''\n",
    "    for i in range(len(string)):\n",
    "        msg = string[i:i+13]\n",
    "        if Japan_mobile_number(msg):\n",
    "            print(\"日本門號:{}\".format(msg))\n",
    "            return False\n",
    "    return True\n",
    "\n",
    "string1 = \"你好，我是王老吳，我的電話號碼是080-1919-3555\"\n",
    "string2 = \"你好，我是王老吳，我明天要去逛夜市\"\n",
    "if parse_Japan_mobile_number_string(string1):\n",
    "    print(\"內文中沒有電話號碼\")\n",
    "if parse_Japan_mobile_number_string(string2):\n",
    "    print(\"內文中沒有電話號碼\")"
   ]
  },
  {
   "cell_type": "markdown",
   "metadata": {},
   "source": [
    "#### 範例程式應用\n",
    "<p>資料內同時擁有日本和台灣的手機門號</p>"
   ]
  },
  {
   "cell_type": "code",
   "execution_count": 5,
   "metadata": {},
   "outputs": [
    {
     "name": "stdout",
     "output_type": "stream",
     "text": [
      "台灣門號:0912-145-856\n",
      "日本門號:080-1968-3552\n",
      "台灣門號:0911-165-123\n",
      "日本門號:080-1919-3555\n",
      "你好，我是王老吳，我明天要去逛夜市 : 沒有日本或台灣門號\n"
     ]
    }
   ],
   "source": [
    "strings = [\"你好，我是王三，我日本的門號是080-1968-3552，台灣門號為0912-145-856\",\\\n",
    "           \"你好，我是王老吳，我的電話號碼是0911-165-123\",\\\n",
    "           \"你好，我是王老吳，我的電話號碼是080-1919-3555\", \\\n",
    "           \"你好，我是王老吳，我明天要去逛夜市\"]\n",
    "\n",
    "for i, string in enumerate(strings):\n",
    "    taiwan = parse_Taiwan_mobile_number_string(string)\n",
    "    japan = parse_Japan_mobile_number_string(string)\n",
    "        \n",
    "    if taiwan and japan:\n",
    "        print(\"{} : 沒有日本或台灣門號\".format(string))"
   ]
  },
  {
   "cell_type": "markdown",
   "metadata": {},
   "source": [
    "### 使用正規表達式實作上述程式"
   ]
  },
  {
   "cell_type": "code",
   "execution_count": 6,
   "metadata": {},
   "outputs": [
    {
     "name": "stdout",
     "output_type": "stream",
     "text": [
      "not Group:<re.Match object; span=(8, 20), match='0930-111-532'>\n",
      "電話號碼:0930-111-532\n",
      "沒有包含電話號碼\n",
      "not Group:<re.Match object; span=(13, 25), match='0911-532-532'>\n",
      "電話號碼:0911-532-532\n"
     ]
    }
   ],
   "source": [
    "import re # 載入正規表達式\n",
    "\n",
    "msgs = [\"請打給我的秘書，0930-111-532 or 0955-103-221\",\n",
    "        \"明天要去吃大餐\",\n",
    "        \"明天吃大餐以前請先打給我，0911-532-532\"]\n",
    "\n",
    "def parser_string(string):\n",
    "    phone_relu = re.compile(r\"\\d\\d\\d\\d-\\d\\d\\d-\\d\\d\\d\")# 正規表達規則\n",
    "    phone_number = phone_relu.search(string)\n",
    "    if phone_number != None:\n",
    "        print(\"not Group:{}\".format(phone_number))\n",
    "        print(\"電話號碼:{}\".format(phone_number.group()))\n",
    "    else:\n",
    "        print(\"沒有包含電話號碼\")\n",
    "\n",
    "for msg in msgs:\n",
    "    parser_string(msg)\n",
    "    "
   ]
  },
  {
   "cell_type": "code",
   "execution_count": 7,
   "metadata": {},
   "outputs": [
    {
     "name": "stdout",
     "output_type": "stream",
     "text": [
      "['0930-111-532', '0955-103-221']\n",
      "[]\n",
      "['0911-532-532']\n"
     ]
    }
   ],
   "source": [
    "import re # 載入正規表達式\n",
    "\n",
    "msgs = [\"請打給我的秘書，0930-111-532 or 0955-103-221\",\n",
    "        \"明天要去吃大餐\",\n",
    "        \"明天吃大餐以前請先打給我，0911-532-532\"]\n",
    "\n",
    "def parser_findall_string(string):\n",
    "    phone_relu = re.compile(r\"\\d\\d\\d\\d-\\d\\d\\d-\\d\\d\\d\")# 正規表達規則\n",
    "    phone_number = phone_relu.findall(string)\n",
    "    print(phone_number)\n",
    "\n",
    "for msg in msgs:\n",
    "    parser_findall_string(msg)"
   ]
  },
  {
   "cell_type": "code",
   "execution_count": 8,
   "metadata": {},
   "outputs": [
    {
     "name": "stdout",
     "output_type": "stream",
     "text": [
      "['0930-111-532', '0955-103-221']\n",
      "[]\n",
      "['0911-532-532']\n"
     ]
    }
   ],
   "source": [
    "import re # 載入正規表達式\n",
    "\n",
    "msgs = [\"請打給我的秘書，0930-111-532 or 0955-103-221\",\n",
    "        \"明天要去吃大餐\",\n",
    "        \"明天吃大餐以前請先打給我，0911-532-532\"]\n",
    "\n",
    "def parser_findall_string(string):\n",
    "    phone_relu = re.compile(r\"\\d{4}-\\d{3}-\\d{3}\")# 正規表達規則\n",
    "    phone_number = phone_relu.findall(string)\n",
    "    print(phone_number)\n",
    "\n",
    "for msg in msgs:\n",
    "    parser_findall_string(msg)"
   ]
  },
  {
   "cell_type": "markdown",
   "metadata": {},
   "source": [
    "### 正規表達式練習\n",
    "<p>找出文件中的email</p>"
   ]
  },
  {
   "cell_type": "code",
   "execution_count": 9,
   "metadata": {},
   "outputs": [
    {
     "name": "stdout",
     "output_type": "stream",
     "text": [
      "['tcyang@fcu.edu.tw', 'acliu@fcu.edu.tw', 'crdow@fcu.edu.tw', 'ywang@fcu.edu.tw', 'thchiang@fcu.edu.tw', 'leejs@fcu.edu.tw', 'wblee@fcu.edu.tw', 'jimmy@fcu.edu.tw', 'fclin@fcu.edu.tw', 'peiclin@fcu.edu.tw', 'wchong@fcu.edu.tw', 'checchang@fcu.edu.tw', 'changkc@fcu.edu.tw', 'chingwen@fcu.edu.tw', 'cychen@fcu.edu.tw', 'dschen@fcu.edu.tw', 'hsiminc@fcu.edu.tw', 'lwuchen@fcu.edu.tw', 'frhsu@fcu.edu.tw', 'jmhuang@fcu.edu.tw', 'yucs@fcu.edu.tw', 'pyang@fcu.edu.tw', 'mingcliu@fcu.edu.tw', 'tjliu@fcu.edu.tw', 'yfliu@fcu.edu.tw', 'kytsai@fcu.edu.tw', 'minghtsai@fcu.edu.tw', 'bhwu@fcu.edu.tw', 'yjchen@fcu.edu.tw', 'cnhuang@fcu.edu.tw', 'frhsu@fcu.edu.tw', 'jimmy@fcu.edu.tw', 'cychen@fcu.edu.tw', 'crdow@fcu.edu.tw', 'ywang@fcu.edu.tw', 'acliu@fcu.edu.tw', 'tcyang@fcu.edu.tw', 'iecs@fcu.edu.tw', 'iecs@fcu.edu.tw']\n"
     ]
    }
   ],
   "source": [
    "with open(\"test.txt\", 'r') as f:\n",
    "    lines = f.read()\n",
    "\n",
    "relus = re.compile(r\"[a-zA-Z0-9_.+-]+@[a-zA-Z]+\\.edu+\\.tw\")\n",
    "emails = relus.findall(lines)\n",
    "print(emails)\n"
   ]
  },
  {
   "cell_type": "markdown",
   "metadata": {},
   "source": [
    "### Get與Post範例程式\n",
    "<p>Get 範例網址:http://www.pythonscraping.com/pages/page3.html</p>\n",
    "<p>Post 範例網址:http://pythonscraping.com/files/form.html</p>\n",
    "<p>Post傳輸網址:http://pythonscraping.com/files/processing.php</p>"
   ]
  },
  {
   "cell_type": "markdown",
   "metadata": {},
   "source": [
    "#### 網頁爬蟲程式 – Hello Word (網站是否正常)"
   ]
  },
  {
   "cell_type": "code",
   "execution_count": 1,
   "metadata": {},
   "outputs": [
    {
     "name": "stdout",
     "output_type": "stream",
     "text": [
      "下載成功\n",
      "程式結束\n"
     ]
    }
   ],
   "source": [
    "import requests\n",
    "\n",
    "url = 'http://www.fcu.edu.tw'  # 給定網址\n",
    "htmlfile = requests.get(url)\n",
    "try:\n",
    "    htmlfile.raise_for_status()                 # 異常處理\n",
    "    print(\"下載成功\")\n",
    "except Exception as err:                        # err ==> 系統自訂的錯誤訊息\n",
    "    print(\"網頁下載失敗: %s\" % err)\n",
    "print(\"程式結束\")\n"
   ]
  },
  {
   "cell_type": "markdown",
   "metadata": {},
   "source": [
    "#### 網頁爬蟲程式 – Hello Word (網站大小)"
   ]
  },
  {
   "cell_type": "code",
   "execution_count": 2,
   "metadata": {},
   "outputs": [
    {
     "name": "stdout",
     "output_type": "stream",
     "text": [
      "取得網頁內容成功\n",
      "網頁內容大小 =  54558\n"
     ]
    }
   ],
   "source": [
    "import requests\n",
    "\n",
    "url = 'http://www.fcu.edu.tw'\n",
    "htmlfile = requests.get(url)\n",
    "if htmlfile.status_code == requests.codes.ok:\n",
    "    print(\"取得網頁內容成功\")\n",
    "    print(\"網頁內容大小 = \", len(htmlfile.text))\n",
    "else:\n",
    "    print(\"取得網頁內容失敗\")"
   ]
  },
  {
   "cell_type": "markdown",
   "metadata": {},
   "source": [
    "#### 網頁爬蟲程式 – Hello Word (網站內容查詢)"
   ]
  },
  {
   "cell_type": "code",
   "execution_count": 3,
   "metadata": {},
   "outputs": [
    {
     "name": "stdout",
     "output_type": "stream",
     "text": [
      "請輸入欲搜尋的字串 : 逢甲\n",
      "搜尋 逢甲 成功\n",
      "逢甲 出現 81 次\n"
     ]
    }
   ],
   "source": [
    "import requests\n",
    "import re\n",
    "\n",
    "url = 'http://www.fcu.edu.tw'\n",
    "htmlfile = requests.get(url)\n",
    "if htmlfile.status_code == requests.codes.ok:\n",
    "    pattern = input(\"請輸入欲搜尋的字串 : \")    # pattern存放欲搜尋的字串\n",
    "    # 使用方法1\n",
    "    if pattern in htmlfile.text:                # 方法1\n",
    "        print(\"搜尋 %s 成功\" % pattern)\n",
    "    else:\n",
    "        print(\"搜尋 %s 失敗\" % pattern)\n",
    "    # 使用方法2, 如果找到放在串列name內\n",
    "    name = re.findall(pattern, htmlfile.text)   # 方法2\n",
    "    if name != None:\n",
    "        print(\"%s 出現 %d 次\" % (pattern, len(name)))\n",
    "    else:\n",
    "        print(\"%s 出現 0 次\" % pattern)\n",
    "else:\n",
    "    print(\"網頁下載失敗\")"
   ]
  },
  {
   "cell_type": "markdown",
   "metadata": {},
   "source": [
    "#### 網站常見錯誤代碼"
   ]
  },
  {
   "cell_type": "code",
   "execution_count": 4,
   "metadata": {},
   "outputs": [
    {
     "ename": "HTTPError",
     "evalue": "404 Client Error: Not Found for url: http://www.fcu.edu.tw/1.html",
     "output_type": "error",
     "traceback": [
      "\u001b[1;31m---------------------------------------------------------------------------\u001b[0m",
      "\u001b[1;31mHTTPError\u001b[0m                                 Traceback (most recent call last)",
      "\u001b[1;32m<ipython-input-4-794c85eeb06f>\u001b[0m in \u001b[0;36m<module>\u001b[1;34m\u001b[0m\n\u001b[0;32m      3\u001b[0m \u001b[0murl\u001b[0m \u001b[1;33m=\u001b[0m \u001b[1;34m'http://www.fcu.edu.tw/1.html'\u001b[0m\u001b[1;33m\u001b[0m\u001b[0m\n\u001b[0;32m      4\u001b[0m \u001b[0mhtmlfile\u001b[0m \u001b[1;33m=\u001b[0m \u001b[0mrequests\u001b[0m\u001b[1;33m.\u001b[0m\u001b[0mget\u001b[0m\u001b[1;33m(\u001b[0m\u001b[0murl\u001b[0m\u001b[1;33m)\u001b[0m\u001b[1;33m\u001b[0m\u001b[0m\n\u001b[1;32m----> 5\u001b[1;33m \u001b[0mprint\u001b[0m \u001b[1;33m(\u001b[0m\u001b[0mhtmlfile\u001b[0m\u001b[1;33m.\u001b[0m\u001b[0mraise_for_status\u001b[0m\u001b[1;33m(\u001b[0m\u001b[1;33m)\u001b[0m\u001b[1;33m)\u001b[0m\u001b[1;33m\u001b[0m\u001b[0m\n\u001b[0m",
      "\u001b[1;32mc:\\users\\fcu234\\anaconda3\\envs\\ta\\lib\\site-packages\\requests\\models.py\u001b[0m in \u001b[0;36mraise_for_status\u001b[1;34m(self)\u001b[0m\n\u001b[0;32m    939\u001b[0m \u001b[1;33m\u001b[0m\u001b[0m\n\u001b[0;32m    940\u001b[0m         \u001b[1;32mif\u001b[0m \u001b[0mhttp_error_msg\u001b[0m\u001b[1;33m:\u001b[0m\u001b[1;33m\u001b[0m\u001b[0m\n\u001b[1;32m--> 941\u001b[1;33m             \u001b[1;32mraise\u001b[0m \u001b[0mHTTPError\u001b[0m\u001b[1;33m(\u001b[0m\u001b[0mhttp_error_msg\u001b[0m\u001b[1;33m,\u001b[0m \u001b[0mresponse\u001b[0m\u001b[1;33m=\u001b[0m\u001b[0mself\u001b[0m\u001b[1;33m)\u001b[0m\u001b[1;33m\u001b[0m\u001b[0m\n\u001b[0m\u001b[0;32m    942\u001b[0m \u001b[1;33m\u001b[0m\u001b[0m\n\u001b[0;32m    943\u001b[0m     \u001b[1;32mdef\u001b[0m \u001b[0mclose\u001b[0m\u001b[1;33m(\u001b[0m\u001b[0mself\u001b[0m\u001b[1;33m)\u001b[0m\u001b[1;33m:\u001b[0m\u001b[1;33m\u001b[0m\u001b[0m\n",
      "\u001b[1;31mHTTPError\u001b[0m: 404 Client Error: Not Found for url: http://www.fcu.edu.tw/1.html"
     ]
    }
   ],
   "source": [
    "import requests\n",
    "\n",
    "url = 'http://www.fcu.edu.tw/1.html'\n",
    "htmlfile = requests.get(url)\n",
    "print (htmlfile.raise_for_status())"
   ]
  },
  {
   "cell_type": "code",
   "execution_count": 10,
   "metadata": {},
   "outputs": [
    {
     "data": {
      "text/plain": [
       "'<html>\\n<head>\\n<style>\\nimg{\\n\\twidth:75px;\\n}\\ntable{\\n\\twidth:50%;\\n}\\ntd{\\n\\tmargin:10px;\\n\\tpadding:10px;\\n}\\n.wrapper{\\n\\twidth:800px;\\n}\\n.excitingNote{\\n\\tfont-style:italic;\\n\\tfont-weight:bold;\\n}\\n</style>\\n</head>\\n<body>\\n<div id=\"wrapper\">\\n<img src=\"../img/gifts/logo.jpg\" style=\"float:left;\">\\n<h1>Totally Normal Gifts</h1>\\n<div id=\"content\">Here is a collection of totally normal, totally reasonable gifts that your friends are sure to love! Our collection is\\nhand-curated by well-paid, free-range Tibetan monks.<p>\\nWe haven\\'t figured out how to make online shopping carts yet, but you can send us a check to:<br>\\n123 Main St.<br>\\nAbuja, Nigeria\\n</br>We will then send your totally amazing gift, pronto! Please include an extra $5.00 for gift wrapping.</div>\\n<table id=\"giftList\">\\n<tr><th>\\nItem Title\\n</th><th>\\nDescription\\n</th><th>\\nCost\\n</th><th>\\nImage\\n</th></tr>\\n\\n<tr id=\"gift1\" class=\"gift\"><td>\\nVegetable Basket\\n</td><td>\\nThis vegetable basket is the perfect gift for your health conscious (or overweight) friends!\\n<span class=\"excitingNote\">Now with super-colorful bell peppers!</span>\\n</td><td>\\n$15.00\\n</td><td>\\n<img src=\"../img/gifts/img1.jpg\">\\n</td></tr>\\n\\n<tr id=\"gift2\" class=\"gift\"><td>\\nRussian Nesting Dolls\\n</td><td>\\nHand-painted by trained monkeys, these exquisite dolls are priceless! And by \"priceless,\" we mean \"extremely expensive\"! <span class=\"excitingNote\">8 entire dolls per set! Octuple the presents!</span>\\n</td><td>\\n$10,000.52\\n</td><td>\\n<img src=\"../img/gifts/img2.jpg\">\\n</td></tr>\\n\\n<tr id=\"gift3\" class=\"gift\"><td>\\nFish Painting\\n</td><td>\\nIf something seems fishy about this painting, it\\'s because it\\'s a fish! <span class=\"excitingNote\">Also hand-painted by trained monkeys!</span>\\n</td><td>\\n$10,005.00\\n</td><td>\\n<img src=\"../img/gifts/img3.jpg\">\\n</td></tr>\\n\\n<tr id=\"gift4\" class=\"gift\"><td>\\nDead Parrot\\n</td><td>\\nThis is an ex-parrot! <span class=\"excitingNote\">Or maybe he\\'s only resting?</span>\\n</td><td>\\n$0.50\\n</td><td>\\n<img src=\"../img/gifts/img4.jpg\">\\n</td></tr>\\n\\n<tr id=\"gift5\" class=\"gift\"><td>\\nMystery Box\\n</td><td>\\nIf you love suprises, this mystery box is for you! Do not place on light-colored surfaces. May cause oil staining. <span class=\"excitingNote\">Keep your friends guessing!</span>\\n</td><td>\\n$1.50\\n</td><td>\\n<img src=\"../img/gifts/img6.jpg\">\\n</td></tr>\\n</table>\\n</p>\\n<div id=\"footer\">\\n&copy; Totally Normal Gifts, Inc. <br>\\n+234 (617) 863-0736\\n</div>\\n\\n</div>\\n</body>\\n</html>\\n'"
      ]
     },
     "execution_count": 10,
     "metadata": {},
     "output_type": "execute_result"
    }
   ],
   "source": [
    "# Get 範例程式\n",
    "\n",
    "from bs4 import BeautifulSoup\n",
    "import requests\n",
    "\n",
    "html = requests.get(\"http://www.pythonscraping.com/pages/page3.html\")\n",
    "html.text"
   ]
  },
  {
   "cell_type": "code",
   "execution_count": 11,
   "metadata": {},
   "outputs": [
    {
     "data": {
      "text/plain": [
       "<html>\n",
       "<head>\n",
       "<style>\n",
       "img{\n",
       "\twidth:75px;\n",
       "}\n",
       "table{\n",
       "\twidth:50%;\n",
       "}\n",
       "td{\n",
       "\tmargin:10px;\n",
       "\tpadding:10px;\n",
       "}\n",
       ".wrapper{\n",
       "\twidth:800px;\n",
       "}\n",
       ".excitingNote{\n",
       "\tfont-style:italic;\n",
       "\tfont-weight:bold;\n",
       "}\n",
       "</style>\n",
       "</head>\n",
       "<body>\n",
       "<div id=\"wrapper\">\n",
       "<img src=\"../img/gifts/logo.jpg\" style=\"float:left;\"/>\n",
       "<h1>Totally Normal Gifts</h1>\n",
       "<div id=\"content\">Here is a collection of totally normal, totally reasonable gifts that your friends are sure to love! Our collection is\n",
       "hand-curated by well-paid, free-range Tibetan monks.<p>\n",
       "We haven't figured out how to make online shopping carts yet, but you can send us a check to:<br/>\n",
       "123 Main St.<br/>\n",
       "Abuja, Nigeria\n",
       "We will then send your totally amazing gift, pronto! Please include an extra $5.00 for gift wrapping.</p></div>\n",
       "<table id=\"giftList\">\n",
       "<tr><th>\n",
       "Item Title\n",
       "</th><th>\n",
       "Description\n",
       "</th><th>\n",
       "Cost\n",
       "</th><th>\n",
       "Image\n",
       "</th></tr>\n",
       "<tr class=\"gift\" id=\"gift1\"><td>\n",
       "Vegetable Basket\n",
       "</td><td>\n",
       "This vegetable basket is the perfect gift for your health conscious (or overweight) friends!\n",
       "<span class=\"excitingNote\">Now with super-colorful bell peppers!</span>\n",
       "</td><td>\n",
       "$15.00\n",
       "</td><td>\n",
       "<img src=\"../img/gifts/img1.jpg\"/>\n",
       "</td></tr>\n",
       "<tr class=\"gift\" id=\"gift2\"><td>\n",
       "Russian Nesting Dolls\n",
       "</td><td>\n",
       "Hand-painted by trained monkeys, these exquisite dolls are priceless! And by \"priceless,\" we mean \"extremely expensive\"! <span class=\"excitingNote\">8 entire dolls per set! Octuple the presents!</span>\n",
       "</td><td>\n",
       "$10,000.52\n",
       "</td><td>\n",
       "<img src=\"../img/gifts/img2.jpg\"/>\n",
       "</td></tr>\n",
       "<tr class=\"gift\" id=\"gift3\"><td>\n",
       "Fish Painting\n",
       "</td><td>\n",
       "If something seems fishy about this painting, it's because it's a fish! <span class=\"excitingNote\">Also hand-painted by trained monkeys!</span>\n",
       "</td><td>\n",
       "$10,005.00\n",
       "</td><td>\n",
       "<img src=\"../img/gifts/img3.jpg\"/>\n",
       "</td></tr>\n",
       "<tr class=\"gift\" id=\"gift4\"><td>\n",
       "Dead Parrot\n",
       "</td><td>\n",
       "This is an ex-parrot! <span class=\"excitingNote\">Or maybe he's only resting?</span>\n",
       "</td><td>\n",
       "$0.50\n",
       "</td><td>\n",
       "<img src=\"../img/gifts/img4.jpg\"/>\n",
       "</td></tr>\n",
       "<tr class=\"gift\" id=\"gift5\"><td>\n",
       "Mystery Box\n",
       "</td><td>\n",
       "If you love suprises, this mystery box is for you! Do not place on light-colored surfaces. May cause oil staining. <span class=\"excitingNote\">Keep your friends guessing!</span>\n",
       "</td><td>\n",
       "$1.50\n",
       "</td><td>\n",
       "<img src=\"../img/gifts/img6.jpg\"/>\n",
       "</td></tr>\n",
       "</table>\n",
       "</div></body></html>\n",
       "<div id=\"footer\">\n",
       "© Totally Normal Gifts, Inc. <br/>\n",
       "+234 (617) 863-0736\n",
       "</div>\n",
       "\n",
       "\n"
      ]
     },
     "execution_count": 11,
     "metadata": {},
     "output_type": "execute_result"
    }
   ],
   "source": [
    "bsObj = BeautifulSoup(html.content, \"html.parser\")\n",
    "bsObj"
   ]
  },
  {
   "cell_type": "code",
   "execution_count": 12,
   "metadata": {},
   "outputs": [
    {
     "name": "stdout",
     "output_type": "stream",
     "text": [
      "../img/gifts/logo.jpg\n",
      "../img/gifts/img1.jpg\n",
      "../img/gifts/img2.jpg\n",
      "../img/gifts/img3.jpg\n",
      "../img/gifts/img4.jpg\n",
      "../img/gifts/img6.jpg\n"
     ]
    }
   ],
   "source": [
    "images = bsObj.find_all(\"img\")\n",
    "for image in images:\n",
    "    print(image['src'])"
   ]
  },
  {
   "cell_type": "code",
   "execution_count": 13,
   "metadata": {},
   "outputs": [
    {
     "name": "stdout",
     "output_type": "stream",
     "text": [
      "Hello there,  !\n"
     ]
    }
   ],
   "source": [
    "# Post範例程式\n",
    "import requests\n",
    "from bs4 import BeautifulSoup\n",
    "\n",
    "html = requests.get(\"http://pythonscraping.com/pages/processing.php\")\n",
    "bsobj = BeautifulSoup(html.text,\"lxml\")\n",
    "print(bsobj.get_text())"
   ]
  },
  {
   "cell_type": "code",
   "execution_count": 14,
   "metadata": {},
   "outputs": [
    {
     "name": "stdout",
     "output_type": "stream",
     "text": [
      "Hello there, Rich Wu!\n"
     ]
    }
   ],
   "source": [
    "import requests\n",
    "from bs4 import BeautifulSoup\n",
    "\n",
    "package = {'firstname': 'Rich', 'lastname': 'Wu'} # 傳送資料\n",
    "\n",
    "html = requests.post(\"http://pythonscraping.com/pages/processing.php\", data=package)\n",
    "print(html.text)"
   ]
  },
  {
   "cell_type": "markdown",
   "metadata": {},
   "source": [
    "### Post程式練習\n",
    "<p>上傳檔案給web</p>"
   ]
  },
  {
   "cell_type": "code",
   "execution_count": 15,
   "metadata": {},
   "outputs": [
    {
     "name": "stdout",
     "output_type": "stream",
     "text": [
      "uploads/DSC_0016_4.jpg\n",
      "The file DSC_0016_4.jpg has been uploaded.\n"
     ]
    }
   ],
   "source": [
    "import requests\n",
    "from IPython.core.display import display, HTML\n",
    "\n",
    "files = {'uploadFile': open(\"DSC_0016_4.jpg\", 'rb')}\n",
    "r = requests.post('http://pythonscraping.com/pages/files/processing2.php', files=files)\n",
    "\n",
    "print(r.text)"
   ]
  },
  {
   "cell_type": "markdown",
   "metadata": {},
   "source": [
    "### 處理login和cookie\n",
    "<p>登入網站:http://pythonscraping.com/pages/cookies/login.html</p>"
   ]
  },
  {
   "cell_type": "code",
   "execution_count": 16,
   "metadata": {},
   "outputs": [
    {
     "data": {
      "text/html": [
       "\n",
       "<h2>Welcome to the Website!</h2>\n",
       "Whoops! You logged in wrong. Try again with any username, and the password \"password\"<br><a href=\"login.html\">Log in here</a>"
      ],
      "text/plain": [
       "<IPython.core.display.HTML object>"
      ]
     },
     "metadata": {},
     "output_type": "display_data"
    }
   ],
   "source": [
    "import requests\n",
    "from IPython.core.display import display, HTML\n",
    "\n",
    "url = \"http://pythonscraping.com/pages/cookies/welcome.php\"\n",
    "params = {\"username\":\"fcu\", \"password\":\"password\"}# post資料\n",
    "html = requests.post(url, data=params)\n",
    "display(HTML(html.text))"
   ]
  },
  {
   "cell_type": "code",
   "execution_count": 17,
   "metadata": {},
   "outputs": [
    {
     "name": "stdout",
     "output_type": "stream",
     "text": [
      "Cookie:{'loggedin': '1', 'username': 'fcu'}\n"
     ]
    }
   ],
   "source": [
    "import requests\n",
    "from IPython.core.display import display, HTML\n",
    "\n",
    "url = \"http://pythonscraping.com/pages/cookies/welcome.php\"\n",
    "params = {\"username\":\"fcu\", \"password\":\"password\"}# post資料\n",
    "html = requests.post(url, data=params)\n",
    "print(\"Cookie:{}\".format(html.cookies.get_dict()))"
   ]
  },
  {
   "cell_type": "code",
   "execution_count": 19,
   "metadata": {},
   "outputs": [
    {
     "data": {
      "text/html": [
       "\n",
       "<h2>Welcome to the Website!</h2>\n",
       "You have logged in successfully! <br><a href=\"profile.php\">Check out your profile!</a>"
      ],
      "text/plain": [
       "<IPython.core.display.HTML object>"
      ]
     },
     "metadata": {},
     "output_type": "display_data"
    }
   ],
   "source": [
    "import requests\n",
    "from IPython.core.display import display, HTML\n",
    "\n",
    "url = \"http://pythonscraping.com/pages/cookies/welcome.php\"\n",
    "params = {\"username\":\"fcu\", \"password\":\"password\"}\n",
    "html = requests.post(url, data=params)\n",
    "html = requests.get(url, cookies=html.cookies)\n",
    "display(HTML(html.text))"
   ]
  },
  {
   "cell_type": "markdown",
   "metadata": {},
   "source": [
    "#### 使用Session處理cookie"
   ]
  },
  {
   "cell_type": "code",
   "execution_count": 21,
   "metadata": {},
   "outputs": [
    {
     "name": "stdout",
     "output_type": "stream",
     "text": [
      "Cookie:{'loggedin': '1', 'username': 'fcu'}\n"
     ]
    },
    {
     "data": {
      "text/html": [
       "\n",
       "<h2>Welcome to the Website!</h2>\n",
       "You have logged in successfully! <br><a href=\"profile.php\">Check out your profile!</a>"
      ],
      "text/plain": [
       "<IPython.core.display.HTML object>"
      ]
     },
     "metadata": {},
     "output_type": "display_data"
    }
   ],
   "source": [
    "import requests\n",
    "from IPython.core.display import display, HTML\n",
    "url = \"http://pythonscraping.com/pages/cookies/welcome.php\"\n",
    "params = {\"username\":\"fcu\", \"password\":\"password\"}\n",
    "\n",
    "session = requests.Session()\n",
    "html = session.post(url, data=params)\n",
    "print(\"Cookie:{}\".format(html.cookies.get_dict()))\n",
    "\n",
    "\n",
    "html = session.get(url)\n",
    "display(HTML(html.text))"
   ]
  },
  {
   "cell_type": "markdown",
   "metadata": {},
   "source": [
    "###  HTTP Basic Access Authentication"
   ]
  },
  {
   "cell_type": "code",
   "execution_count": 22,
   "metadata": {},
   "outputs": [
    {
     "data": {
      "text/html": [
       "<p>Hello Rich.</p><p>You entered password as your password.</p>"
      ],
      "text/plain": [
       "<IPython.core.display.HTML object>"
      ]
     },
     "metadata": {},
     "output_type": "display_data"
    }
   ],
   "source": [
    "import requests\n",
    "from requests.auth import AuthBase, HTTPBasicAuth\n",
    "from IPython.core.display import display, HTML\n",
    "\n",
    "url = 'http://pythonscraping.com/pages/auth/login.php'\n",
    "auth = HTTPBasicAuth(\"Rich\", \"password\")\n",
    "html = requests.post(url, auth=auth)\n",
    "display(HTML(html.text))"
   ]
  }
 ],
 "metadata": {
  "kernelspec": {
   "display_name": "Python 3",
   "language": "python",
   "name": "python3"
  },
  "language_info": {
   "codemirror_mode": {
    "name": "ipython",
    "version": 3
   },
   "file_extension": ".py",
   "mimetype": "text/x-python",
   "name": "python",
   "nbconvert_exporter": "python",
   "pygments_lexer": "ipython3",
   "version": "3.7.0"
  }
 },
 "nbformat": 4,
 "nbformat_minor": 2
}
